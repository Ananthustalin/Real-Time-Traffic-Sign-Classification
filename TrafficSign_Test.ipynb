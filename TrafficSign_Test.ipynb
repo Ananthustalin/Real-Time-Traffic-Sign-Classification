{
 "cells": [
  {
   "cell_type": "code",
   "execution_count": 1,
   "id": "d67d6758",
   "metadata": {},
   "outputs": [],
   "source": [
    "import numpy as np\n",
    "import cv2\n",
    "import pickle"
   ]
  },
  {
   "cell_type": "code",
   "execution_count": 2,
   "id": "0c9c3b72",
   "metadata": {},
   "outputs": [],
   "source": [
    "frameWidth = 640         # CAMERA RESOLUTION\n",
    "frameHeight = 480\n",
    "brightness = 180\n",
    "threshold = 0.90         # PROBABLITY THRESHOLD\n",
    "font = cv2.FONT_HERSHEY_SIMPLEX"
   ]
  },
  {
   "cell_type": "code",
   "execution_count": 3,
   "id": "27a4840c",
   "metadata": {},
   "outputs": [
    {
     "data": {
      "text/plain": [
       "False"
      ]
     },
     "execution_count": 3,
     "metadata": {},
     "output_type": "execute_result"
    }
   ],
   "source": [
    "cap = cv2.VideoCapture(1)\n",
    "cap.set(3, frameWidth)\n",
    "cap.set(4, frameHeight)\n",
    "cap.set(10, brightness)"
   ]
  },
  {
   "cell_type": "code",
   "execution_count": 4,
   "id": "d264ecd2",
   "metadata": {},
   "outputs": [],
   "source": [
    "from tensorflow import keras\n",
    "my_model = keras.models.load_model('my_model')\n",
    "my_model.load_weights(\"weights.h5\")"
   ]
  },
  {
   "cell_type": "code",
   "execution_count": 5,
   "id": "680bbe28",
   "metadata": {},
   "outputs": [],
   "source": [
    "def grayscale(img):\n",
    "    img = cv2.cvtColor(img,cv2.COLOR_BGR2GRAY)\n",
    "    return img\n",
    "\n",
    "\n",
    "def equalize(img):\n",
    "    img = cv2.equalizeHist(img)\n",
    "    return img\n",
    "\n",
    "\n",
    "\n",
    "def preprocessing(img):\n",
    "    img = grayscale(img)\n",
    "    img = equalize(img)\n",
    "    img = img/255\n",
    "    return img\n",
    "\n",
    "def getCalssName(classNo):\n",
    "    if    classNo == 0: return 'Speed Limit 20km/h'\n",
    "    elif  classNo == 1: return 'Speed Limit 30km/h'\n",
    "    elif  classNo == 2: return 'Speed Limit 50km/h'\n",
    "    elif  classNo == 3: return 'Speed Limit 60km/h'\n",
    "    elif  classNo == 4: return 'Speed Limit 70km/h'\n",
    "    elif  classNo == 5: return 'Speed Limit 80km/h'\n",
    "    elif  classNo == 6: return 'End of Speed Limit 80km/h'\n",
    "    elif  classNo == 7: return 'Speed Limit 100km/h'\n",
    "    elif  classNo == 8: return 'Speed Limit 120 km/hr'\n",
    "    elif  classNo == 9: return 'No passing'\n",
    "    elif  classNo == 10: return 'No passing for vehicles over 3.5 metric tons'\n",
    "    elif  classNo == 11: return 'Right-of-way at next intersection'\n",
    "    elif  classNo == 12: return 'Priority road'\n",
    "    elif  classNo == 13: return 'Yield'\n",
    "    elif  classNo == 14: return 'Stop'\n",
    "    elif  classNo == 15: return 'No vehicles'\n",
    "    elif  classNo == 16: return 'vehicles over 3.5 metric tons prohibited'\n",
    "    elif  classNo == 17: return 'No entry'\n",
    "    elif  classNo == 18: return 'General caution'\n",
    "    elif  classNo == 19: return 'Dangerous curve to the left'\n",
    "    elif  classNo == 20: return 'Dangerous curve to the right'\n",
    "    elif  classNo == 21: return 'Double curve'\n",
    "    elif  classNo == 22: return 'Bumpy road'\n",
    "    elif  classNo == 23: return 'Slippery road'\n",
    "    elif  classNo == 24: return 'Road narrows on the right'\n",
    "    elif  classNo == 25: return 'Road work'\n",
    "    elif  classNo == 26: return 'Traffic signals'\n",
    "    elif  classNo == 27: return 'Pedestrian'\n",
    "    elif  classNo == 28: return 'Children crossing'\n",
    "    elif  classNo == 29: return 'Bicycles crossing'\n",
    "    elif  classNo == 30: return 'Beware of ice/snow'\n",
    "    elif  classNo == 31: return 'Wild animals crossing'\n",
    "    elif  classNo == 32: return 'End of all speed and passing limits'\n",
    "    elif  classNo == 33: return 'Turn right ahead'\n",
    "    elif  classNo == 34: return 'Turn left ahead'\n",
    "    elif  classNo == 35: return 'Ahead only'\n",
    "    elif  classNo == 36: return 'Go straight or right'\n",
    "    elif  classNo == 37: return 'Go straight or left'\n",
    "    elif  classNo == 38: return 'Keep right'\n",
    "    elif  classNo == 39: return 'Keep left'\n",
    "    elif  classNo == 40: return 'Roundabout mandatory'\n",
    "    elif  classNo == 41: return 'End of no passing'\n",
    "    elif  classNo == 42: return 'End of no passing for vehicles over 3.5 metric tons'\n",
    "    "
   ]
  },
  {
   "cell_type": "code",
   "execution_count": null,
   "id": "90c09ce3",
   "metadata": {},
   "outputs": [
    {
     "name": "stdout",
     "output_type": "stream",
     "text": [
      "WARNING:tensorflow:From <ipython-input-6-212e3af92312>:18: Sequential.predict_classes (from tensorflow.python.keras.engine.sequential) is deprecated and will be removed after 2021-01-01.\n",
      "Instructions for updating:\n",
      "Please use instead:* `np.argmax(model.predict(x), axis=-1)`,   if your model does multi-class classification   (e.g. if it uses a `softmax` last-layer activation).* `(model.predict(x) > 0.5).astype(\"int32\")`,   if your model does binary classification   (e.g. if it uses a `sigmoid` last-layer activation).\n"
     ]
    }
   ],
   "source": [
    "while True:\n",
    "\n",
    "    # READ IMAGE\n",
    "    success, imgOrignal = cap.read()\n",
    "\n",
    "\n",
    "    # PROCESS IMAGE\n",
    "    img = np.asarray(imgOrignal)\n",
    "    img = cv2.resize(img, (32, 32))\n",
    "    img = preprocessing(img)\n",
    "    cv2.imshow(\"Processed Image\", img)\n",
    "    img = img.reshape(1, 32, 32, 1)\n",
    "    cv2.putText(imgOrignal, \"SIGN: \" , (20, 35), font, 0.75, (0, 0, 255), 2, cv2.LINE_AA)\n",
    "    cv2.putText(imgOrignal, \"Accuracy: \", (20, 75), font, 0.75, (255, 0, 0), 2, cv2.LINE_AA)\n",
    "\n",
    "    # PREDICT IMAGE\n",
    "    predictions = my_model.predict(img)\n",
    "    classIndex = my_model.predict_classes(img)\n",
    "    probabilityValue =np.amax(predictions)\n",
    "\n",
    "    if probabilityValue > threshold:\n",
    "        #print(getCalssName(classIndex))\n",
    "        cv2.putText(imgOrignal,str(classIndex)+\" \"+str(getCalssName(classIndex)),(120,35), font, 0.75, (0, 0, 255), 2, cv2.LINE_AA)\n",
    "        cv2.putText(imgOrignal, str(round(probabilityValue*100,2) )+\"%\", (180, 75), font, 0.75, (255, 0, 0), 2, cv2.LINE_AA)\n",
    "    cv2.imshow(\"Result\",imgOrignal)\n",
    "\n",
    "    if cv2.waitKey(1) and 0xFF == ord('q'):\n",
    "        break"
   ]
  },
  {
   "cell_type": "code",
   "execution_count": null,
   "id": "c278eed6",
   "metadata": {},
   "outputs": [],
   "source": []
  }
 ],
 "metadata": {
  "kernelspec": {
   "display_name": "Python 3",
   "language": "python",
   "name": "python3"
  },
  "language_info": {
   "codemirror_mode": {
    "name": "ipython",
    "version": 3
   },
   "file_extension": ".py",
   "mimetype": "text/x-python",
   "name": "python",
   "nbconvert_exporter": "python",
   "pygments_lexer": "ipython3",
   "version": "3.8.10"
  }
 },
 "nbformat": 4,
 "nbformat_minor": 5
}
